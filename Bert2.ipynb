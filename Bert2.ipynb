{
 "cells": [
  {
   "cell_type": "code",
   "execution_count": 1,
   "id": "44661f06",
   "metadata": {},
   "outputs": [],
   "source": [
    "import pandas as pd\n",
    "import numpy as np"
   ]
  },
  {
   "cell_type": "code",
   "execution_count": 2,
   "id": "d9db365e",
   "metadata": {},
   "outputs": [],
   "source": [
    "from transformers import BertTokenizer, BertModel\n",
    "import torch"
   ]
  },
  {
   "cell_type": "code",
   "execution_count": 3,
   "id": "0eceb1cc",
   "metadata": {},
   "outputs": [
    {
     "name": "stdout",
     "output_type": "stream",
     "text": [
      "Requirement already satisfied: openpyxl in d:\\photoshop_cs6_chs\\anaconda\\envs\\data_analytics\\lib\\site-packages (3.0.10)Note: you may need to restart the kernel to use updated packages.\n",
      "Requirement already satisfied: et-xmlfile in d:\\photoshop_cs6_chs\\anaconda\\envs\\data_analytics\\lib\\site-packages (from openpyxl) (1.1.0)\n",
      "\n"
     ]
    }
   ],
   "source": [
    "pip install openpyxl"
   ]
  },
  {
   "cell_type": "code",
   "execution_count": 4,
   "id": "e61452a0",
   "metadata": {},
   "outputs": [],
   "source": [
    "df = pd.read_excel('data.xlsx') "
   ]
  },
  {
   "cell_type": "code",
   "execution_count": 5,
   "id": "2cdc6e5a",
   "metadata": {},
   "outputs": [
    {
     "name": "stderr",
     "output_type": "stream",
     "text": [
      "Some weights of the model checkpoint at bert-large-uncased were not used when initializing BertModel: ['cls.seq_relationship.weight', 'cls.predictions.transform.dense.bias', 'cls.predictions.transform.LayerNorm.weight', 'cls.predictions.transform.LayerNorm.bias', 'cls.predictions.bias', 'cls.predictions.transform.dense.weight', 'cls.predictions.decoder.weight', 'cls.seq_relationship.bias']\n",
      "- This IS expected if you are initializing BertModel from the checkpoint of a model trained on another task or with another architecture (e.g. initializing a BertForSequenceClassification model from a BertForPreTraining model).\n",
      "- This IS NOT expected if you are initializing BertModel from the checkpoint of a model that you expect to be exactly identical (initializing a BertForSequenceClassification model from a BertForSequenceClassification model).\n"
     ]
    }
   ],
   "source": [
    "tokenizer = BertTokenizer.from_pretrained(\"bert-large-uncased\")\n",
    "model = BertModel.from_pretrained(\"bert-large-uncased\")"
   ]
  },
  {
   "cell_type": "code",
   "execution_count": 6,
   "id": "6d0ee243",
   "metadata": {},
   "outputs": [
    {
     "name": "stderr",
     "output_type": "stream",
     "text": [
      "100%|██████████████████████████████████████████████████████████████████████████████| 344/344 [00:00<00:00, 1291.83it/s]\n"
     ]
    }
   ],
   "source": [
    "from tqdm import tqdm\n",
    "sentence1 = []\n",
    "sentence2 = []\n",
    "sentences = []\n",
    "\n",
    "for i in tqdm(range(len(df))):\n",
    "    sentence1.append(df.iloc[i]['sentence1'])\n",
    "    sentence2.append(df.iloc[i]['sentence2'])\n",
    "    sentences.append(df.iloc[i]['sentence1'])\n",
    "    sentences.append(df.iloc[i]['sentence2'])"
   ]
  },
  {
   "cell_type": "code",
   "execution_count": 7,
   "id": "de2ff839",
   "metadata": {},
   "outputs": [],
   "source": [
    "tokens1 =[]\n",
    "tokens2 =[]\n",
    "tokens_1=[]\n",
    "tokens_2=[]\n",
    "\n",
    "for i in range(len(sentence1)):\n",
    "    tokens1.append(tokenizer.tokenize(sentence1[i]))\n",
    "\n",
    "\n",
    "for e in range(len(sentence2)):\n",
    "    tokens2.append(tokenizer.tokenize(sentence2[e]))\n",
    "    \n",
    "for s1 in tokens1:\n",
    "    tokens_1.append(['[CLS]'] + s1 + ['[SEP]'] + ['[PAD]'] * 2)\n",
    "    \n",
    "for s2 in tokens2:\n",
    "    tokens_2.append(['[CLS]'] + s2 + ['[SEP]'] + ['[PAD]'] * 2)"
   ]
  },
  {
   "cell_type": "code",
   "execution_count": 9,
   "id": "e1498f60",
   "metadata": {},
   "outputs": [],
   "source": [
    "attention_mask1 = []\n",
    "attention_mask2 = []\n",
    "for t in tokens_1:\n",
    "    attention_mask1.append(1 if t != '[PAD]' else 0)\n",
    "#attention_mask1 = [ 1 if t != '[PAD]' else 0 for t in tokens_1]\n",
    "for t in tokens_2:\n",
    "    attention_mask2.append(1 if t != '[PAD]' else 0)\n",
    "#attention_mask2 = [ 1 if t != '[PAD]' else 0 for t in tokens_2]\n",
    " "
   ]
  },
  {
   "cell_type": "code",
   "execution_count": 10,
   "id": "e4859e38",
   "metadata": {},
   "outputs": [],
   "source": [
    "ids1=[]\n",
    "ids2=[]\n",
    "ids_1 = []\n",
    "ids_2 = []\n",
    "re_ids1=[]\n",
    "re_ids2=[]\n",
    "\n",
    "for a in tokens1:\n",
    "    ids1.append(tokenizer.convert_tokens_to_ids(a))\n",
    "\n",
    "for f in tokens2:\n",
    "    ids2.append(tokenizer.convert_tokens_to_ids(f))\n",
    "    \n",
    "for a in ids1:\n",
    "    ids_1.append(torch.tensor(a))\n",
    "\n",
    "for a in ids2:\n",
    "    ids_2.append(torch.tensor(a))\n",
    "    \n",
    "for a in ids_1:\n",
    "    re_ids1.append(torch.reshape(a, [1, -1]))\n",
    "\n",
    "for a in ids_2:\n",
    "    re_ids2.append(torch.reshape(a, [1, -1]))\n",
    "    \n",
    "   "
   ]
  },
  {
   "cell_type": "code",
   "execution_count": 13,
   "id": "76f07b97",
   "metadata": {},
   "outputs": [],
   "source": [
    "attention1=[]\n",
    "attention2=[]\n",
    "attention11=[]\n",
    "attention22=[]\n",
    "\n",
    "for a in attention_mask1:\n",
    "    attention1.append(torch.tensor(a))\n",
    "\n",
    "for a in attention_mask2:\n",
    "    attention2.append(torch.tensor(a))\n",
    "    \n",
    "for a in attention1:\n",
    "    attention11.append(torch.reshape(a, [1, -1]))\n",
    "\n",
    "for a in attention2:\n",
    "    attention22.append(torch.reshape(a, [1, -1]))"
   ]
  },
  {
   "cell_type": "code",
   "execution_count": 15,
   "id": "029129dc",
   "metadata": {},
   "outputs": [],
   "source": [
    "model_outputs1 = []\n",
    "model_outputs2 = []\n",
    "\n",
    "for c,d in zip(re_ids1,attention11):\n",
    "    model_outputs1.append(model(c,attention_mask = d))    \n",
    "                          \n",
    "for c,d in zip(re_ids2,attention22):\n",
    "    model_outputs2.append(model(c,attention_mask = d))    "
   ]
  },
  {
   "cell_type": "code",
   "execution_count": 16,
   "id": "052406aa",
   "metadata": {},
   "outputs": [],
   "source": [
    "embeddings1 =[]\n",
    "for d in range(len(model_outputs1)):\n",
    "    embeddings1.append(model_outputs1[d]['last_hidden_state'][0])\n",
    "\n",
    "\n",
    "embeddings2 =[]\n",
    "for i in range(len(model_outputs2)):\n",
    "    embeddings2.append(model_outputs2[i]['last_hidden_state'][0])"
   ]
  },
  {
   "cell_type": "code",
   "execution_count": 17,
   "id": "7acf05b8",
   "metadata": {},
   "outputs": [],
   "source": [
    "emb1=[]\n",
    "for r in range(len(embeddings1)):\n",
    "    emb1.append(embeddings1[r].detach().numpy())\n",
    "\n",
    "emb2=[]\n",
    "for r in range(len(embeddings2)):\n",
    "    emb2.append(embeddings2[r].detach().numpy())\n"
   ]
  },
  {
   "cell_type": "code",
   "execution_count": 19,
   "id": "25958f68",
   "metadata": {},
   "outputs": [],
   "source": [
    "from sklearn.metrics.pairwise import cosine_similarity\n",
    "from sklearn.metrics.pairwise import euclidean_distances \n",
    "\n",
    "cos = []\n",
    "euc = []\n",
    "for x in range(len(emb1)):\n",
    "    cos.append(cosine_similarity([emb1[x][0], emb2[x][1]])[0][1])\n",
    "    euc.append(euclidean_distances([emb1[x][0], emb2[x][1]])[0][1])\n"
   ]
  },
  {
   "cell_type": "code",
   "execution_count": 20,
   "id": "6758005b",
   "metadata": {},
   "outputs": [
    {
     "name": "stderr",
     "output_type": "stream",
     "text": [
      "100%|██████████████████████████████████████████████████████████████████████████████| 344/344 [00:00<00:00, 1368.73it/s]\n"
     ]
    }
   ],
   "source": [
    "from tqdm import tqdm\n",
    "Aptness = []\n",
    "hilo = []\n",
    "average_score = []\n",
    "\n",
    "for i in tqdm(range(len(df))):\n",
    "    Aptness.append(df.iloc[i]['Aptness'])\n",
    "    hilo.append(df.iloc[i]['hilo'])\n",
    "    average_score.append(df.iloc[i]['average_score'])"
   ]
  },
  {
   "cell_type": "code",
   "execution_count": 21,
   "id": "814c7bc0",
   "metadata": {},
   "outputs": [],
   "source": [
    "import xlwt\n",
    "\n",
    "\n",
    "file = xlwt.Workbook('encoding = utf-8') \n",
    "sheet1 = file.add_sheet('sheet1',cell_overwrite_ok=True)\n",
    "sheet1.write(0, 0, \"Sentence1\")\n",
    "sheet1.write(0, 1, \"Sentence2\")\n",
    "sheet1.write(0, 2, \"Aptness\")\n",
    "sheet1.write(0, 3, \"hilo\")\n",
    "sheet1.write(0, 4, \"average_score\")\n",
    "sheet1.write(0, 5, \"cosine_similarity\")\n",
    "sheet1.write(0, 6, \"euclidean_distances\")\n",
    "\n",
    "for i in range(len(df)):\n",
    "    sheet1.write(i + 1, 0, sentence1[i])\n",
    "    sheet1.write(i + 1, 1, sentence2[i])\n",
    "    sheet1.write(i + 1, 2, Aptness[i])\n",
    "    sheet1.write(i + 1, 3, int(hilo[i]))\n",
    "    sheet1.write(i + 1, 4, average_score[i])\n",
    "    sheet1.write(i + 1, 5, float(cos[i]))\n",
    "    sheet1.write(i + 1, 6, float(euc[i]))"
   ]
  },
  {
   "cell_type": "code",
   "execution_count": 22,
   "id": "5f13d1a0",
   "metadata": {},
   "outputs": [],
   "source": [
    "file.save('Similarity5.xls') "
   ]
  },
  {
   "cell_type": "code",
   "execution_count": 23,
   "id": "879fe773",
   "metadata": {},
   "outputs": [
    {
     "name": "stderr",
     "output_type": "stream",
     "text": [
      "100%|██████████████████████████████████████████████████████████████████████████████| 344/344 [00:00<00:00, 5127.37it/s]\n"
     ]
    }
   ],
   "source": [
    "df1 = pd.read_excel('Similarity5.xls') \n",
    "from tqdm import tqdm\n",
    "hilo1 = []\n",
    "hilo2 = []\n",
    "\n",
    "for i in tqdm(range(len(df1))):\n",
    "    hilo1.append(df1.iloc[i]['hilo'])\n",
    "    hilo2.append(df1.iloc[i]['hilo_new'])"
   ]
  },
  {
   "cell_type": "code",
   "execution_count": 24,
   "id": "f6ebb018",
   "metadata": {},
   "outputs": [],
   "source": [
    "from sklearn.metrics import roc_auc_score\n",
    "auc_score = roc_auc_score(hilo1,hilo2)"
   ]
  },
  {
   "cell_type": "code",
   "execution_count": 25,
   "id": "6a48a252",
   "metadata": {},
   "outputs": [
    {
     "data": {
      "text/plain": [
       "0.5901193252881722"
      ]
     },
     "execution_count": 25,
     "metadata": {},
     "output_type": "execute_result"
    }
   ],
   "source": [
    "auc_score"
   ]
  },
  {
   "cell_type": "code",
   "execution_count": null,
   "id": "2f82a6df",
   "metadata": {},
   "outputs": [],
   "source": []
  },
  {
   "cell_type": "code",
   "execution_count": 9,
   "id": "cafc7494",
   "metadata": {},
   "outputs": [],
   "source": [
    "inputs1 = tokenizer(sentence1,padding=True, return_tensors=\"pt\")\n",
    "outputs1 = model(**inputs1)"
   ]
  },
  {
   "cell_type": "code",
   "execution_count": 10,
   "id": "f3e93259",
   "metadata": {},
   "outputs": [],
   "source": [
    "inputs2 = tokenizer(sentence2,padding=True, return_tensors=\"pt\")\n",
    "outputs2 = model(**inputs2)"
   ]
  },
  {
   "cell_type": "code",
   "execution_count": 11,
   "id": "3318eaf1",
   "metadata": {},
   "outputs": [],
   "source": [
    "cls_embs1 = outputs1['last_hidden_state'][:, 0]\n",
    "cls_embs2 = outputs2['last_hidden_state'][:, 0]"
   ]
  },
  {
   "cell_type": "code",
   "execution_count": 12,
   "id": "5de38bfe",
   "metadata": {},
   "outputs": [
    {
     "data": {
      "text/plain": [
       "torch.Size([344, 512])"
      ]
     },
     "execution_count": 12,
     "metadata": {},
     "output_type": "execute_result"
    }
   ],
   "source": [
    "np.shape(cls_embs1)"
   ]
  },
  {
   "cell_type": "code",
   "execution_count": 13,
   "id": "0b809d05",
   "metadata": {},
   "outputs": [
    {
     "data": {
      "text/plain": [
       "torch.Size([344, 512])"
      ]
     },
     "execution_count": 13,
     "metadata": {},
     "output_type": "execute_result"
    }
   ],
   "source": [
    "np.shape(cls_embs2)"
   ]
  },
  {
   "cell_type": "code",
   "execution_count": 64,
   "id": "a36bd048",
   "metadata": {},
   "outputs": [],
   "source": [
    "emb1 = []\n",
    "emb2 = []"
   ]
  },
  {
   "cell_type": "code",
   "execution_count": 65,
   "id": "bb29271c",
   "metadata": {},
   "outputs": [],
   "source": [
    "for i in range(len(sentence1)):\n",
    "    emb1.append(embeddings1[i].detach().numpy())\n",
    "    emb2.append(embeddings2[i].detach().numpy())"
   ]
  },
  {
   "cell_type": "code",
   "execution_count": 59,
   "id": "f4e8ac54",
   "metadata": {},
   "outputs": [],
   "source": [
    "from sklearn.metrics.pairwise import cosine_similarity\n",
    "from sklearn.metrics.pairwise import euclidean_distances "
   ]
  },
  {
   "cell_type": "code",
   "execution_count": 67,
   "id": "f3f9505b",
   "metadata": {},
   "outputs": [],
   "source": [
    "cos = []\n",
    "euc = []"
   ]
  },
  {
   "cell_type": "code",
   "execution_count": 68,
   "id": "12f2a4f4",
   "metadata": {},
   "outputs": [
    {
     "ename": "ValueError",
     "evalue": "Found array with dim 3. check_pairwise_arrays expected <= 2.",
     "output_type": "error",
     "traceback": [
      "\u001b[1;31m---------------------------------------------------------------------------\u001b[0m",
      "\u001b[1;31mValueError\u001b[0m                                Traceback (most recent call last)",
      "Input \u001b[1;32mIn [68]\u001b[0m, in \u001b[0;36m<cell line: 1>\u001b[1;34m()\u001b[0m\n\u001b[0;32m      1\u001b[0m \u001b[38;5;28;01mfor\u001b[39;00m x \u001b[38;5;129;01min\u001b[39;00m \u001b[38;5;28mrange\u001b[39m(\u001b[38;5;28mlen\u001b[39m(emb1)):\n\u001b[1;32m----> 2\u001b[0m     cos\u001b[38;5;241m.\u001b[39mappend(\u001b[43mcosine_similarity\u001b[49m\u001b[43m(\u001b[49m\u001b[43m[\u001b[49m\u001b[43memb1\u001b[49m\u001b[43m[\u001b[49m\u001b[43mx\u001b[49m\u001b[43m]\u001b[49m\u001b[43m,\u001b[49m\u001b[43m \u001b[49m\u001b[43memb2\u001b[49m\u001b[43m[\u001b[49m\u001b[43mx\u001b[49m\u001b[43m]\u001b[49m\u001b[43m]\u001b[49m\u001b[43m)\u001b[49m[\u001b[38;5;241m0\u001b[39m][\u001b[38;5;241m1\u001b[39m])\n\u001b[0;32m      3\u001b[0m     euc\u001b[38;5;241m.\u001b[39mappend(euclidean_distances([emb1[x], emb2[x]])[\u001b[38;5;241m0\u001b[39m][\u001b[38;5;241m1\u001b[39m])\n",
      "File \u001b[1;32mD:\\Photoshop_CS6_CHS\\ANACONDA\\envs\\data_analytics\\lib\\site-packages\\sklearn\\metrics\\pairwise.py:1251\u001b[0m, in \u001b[0;36mcosine_similarity\u001b[1;34m(X, Y, dense_output)\u001b[0m\n\u001b[0;32m   1217\u001b[0m \u001b[38;5;124;03m\"\"\"Compute cosine similarity between samples in X and Y.\u001b[39;00m\n\u001b[0;32m   1218\u001b[0m \n\u001b[0;32m   1219\u001b[0m \u001b[38;5;124;03mCosine similarity, or the cosine kernel, computes similarity as the\u001b[39;00m\n\u001b[1;32m   (...)\u001b[0m\n\u001b[0;32m   1247\u001b[0m \u001b[38;5;124;03mkernel matrix : ndarray of shape (n_samples_X, n_samples_Y)\u001b[39;00m\n\u001b[0;32m   1248\u001b[0m \u001b[38;5;124;03m\"\"\"\u001b[39;00m\n\u001b[0;32m   1249\u001b[0m \u001b[38;5;66;03m# to avoid recursive import\u001b[39;00m\n\u001b[1;32m-> 1251\u001b[0m X, Y \u001b[38;5;241m=\u001b[39m \u001b[43mcheck_pairwise_arrays\u001b[49m\u001b[43m(\u001b[49m\u001b[43mX\u001b[49m\u001b[43m,\u001b[49m\u001b[43m \u001b[49m\u001b[43mY\u001b[49m\u001b[43m)\u001b[49m\n\u001b[0;32m   1253\u001b[0m X_normalized \u001b[38;5;241m=\u001b[39m normalize(X, copy\u001b[38;5;241m=\u001b[39m\u001b[38;5;28;01mTrue\u001b[39;00m)\n\u001b[0;32m   1254\u001b[0m \u001b[38;5;28;01mif\u001b[39;00m X \u001b[38;5;129;01mis\u001b[39;00m Y:\n",
      "File \u001b[1;32mD:\\Photoshop_CS6_CHS\\ANACONDA\\envs\\data_analytics\\lib\\site-packages\\sklearn\\metrics\\pairwise.py:147\u001b[0m, in \u001b[0;36mcheck_pairwise_arrays\u001b[1;34m(X, Y, precomputed, dtype, accept_sparse, force_all_finite, copy)\u001b[0m\n\u001b[0;32m    144\u001b[0m     dtype \u001b[38;5;241m=\u001b[39m dtype_float\n\u001b[0;32m    146\u001b[0m \u001b[38;5;28;01mif\u001b[39;00m Y \u001b[38;5;129;01mis\u001b[39;00m X \u001b[38;5;129;01mor\u001b[39;00m Y \u001b[38;5;129;01mis\u001b[39;00m \u001b[38;5;28;01mNone\u001b[39;00m:\n\u001b[1;32m--> 147\u001b[0m     X \u001b[38;5;241m=\u001b[39m Y \u001b[38;5;241m=\u001b[39m \u001b[43mcheck_array\u001b[49m\u001b[43m(\u001b[49m\n\u001b[0;32m    148\u001b[0m \u001b[43m        \u001b[49m\u001b[43mX\u001b[49m\u001b[43m,\u001b[49m\n\u001b[0;32m    149\u001b[0m \u001b[43m        \u001b[49m\u001b[43maccept_sparse\u001b[49m\u001b[38;5;241;43m=\u001b[39;49m\u001b[43maccept_sparse\u001b[49m\u001b[43m,\u001b[49m\n\u001b[0;32m    150\u001b[0m \u001b[43m        \u001b[49m\u001b[43mdtype\u001b[49m\u001b[38;5;241;43m=\u001b[39;49m\u001b[43mdtype\u001b[49m\u001b[43m,\u001b[49m\n\u001b[0;32m    151\u001b[0m \u001b[43m        \u001b[49m\u001b[43mcopy\u001b[49m\u001b[38;5;241;43m=\u001b[39;49m\u001b[43mcopy\u001b[49m\u001b[43m,\u001b[49m\n\u001b[0;32m    152\u001b[0m \u001b[43m        \u001b[49m\u001b[43mforce_all_finite\u001b[49m\u001b[38;5;241;43m=\u001b[39;49m\u001b[43mforce_all_finite\u001b[49m\u001b[43m,\u001b[49m\n\u001b[0;32m    153\u001b[0m \u001b[43m        \u001b[49m\u001b[43mestimator\u001b[49m\u001b[38;5;241;43m=\u001b[39;49m\u001b[43mestimator\u001b[49m\u001b[43m,\u001b[49m\n\u001b[0;32m    154\u001b[0m \u001b[43m    \u001b[49m\u001b[43m)\u001b[49m\n\u001b[0;32m    155\u001b[0m \u001b[38;5;28;01melse\u001b[39;00m:\n\u001b[0;32m    156\u001b[0m     X \u001b[38;5;241m=\u001b[39m check_array(\n\u001b[0;32m    157\u001b[0m         X,\n\u001b[0;32m    158\u001b[0m         accept_sparse\u001b[38;5;241m=\u001b[39maccept_sparse,\n\u001b[1;32m   (...)\u001b[0m\n\u001b[0;32m    162\u001b[0m         estimator\u001b[38;5;241m=\u001b[39mestimator,\n\u001b[0;32m    163\u001b[0m     )\n",
      "File \u001b[1;32mD:\\Photoshop_CS6_CHS\\ANACONDA\\envs\\data_analytics\\lib\\site-packages\\sklearn\\utils\\validation.py:794\u001b[0m, in \u001b[0;36mcheck_array\u001b[1;34m(array, accept_sparse, accept_large_sparse, dtype, order, copy, force_all_finite, ensure_2d, allow_nd, ensure_min_samples, ensure_min_features, estimator)\u001b[0m\n\u001b[0;32m    789\u001b[0m         \u001b[38;5;28;01mraise\u001b[39;00m \u001b[38;5;167;01mValueError\u001b[39;00m(\n\u001b[0;32m    790\u001b[0m             \u001b[38;5;124m\"\u001b[39m\u001b[38;5;124mUnable to convert array of bytes/strings \u001b[39m\u001b[38;5;124m\"\u001b[39m\n\u001b[0;32m    791\u001b[0m             \u001b[38;5;124m\"\u001b[39m\u001b[38;5;124minto decimal numbers with dtype=\u001b[39m\u001b[38;5;124m'\u001b[39m\u001b[38;5;124mnumeric\u001b[39m\u001b[38;5;124m'\u001b[39m\u001b[38;5;124m\"\u001b[39m\n\u001b[0;32m    792\u001b[0m         ) \u001b[38;5;28;01mfrom\u001b[39;00m \u001b[38;5;21;01me\u001b[39;00m\n\u001b[0;32m    793\u001b[0m \u001b[38;5;28;01mif\u001b[39;00m \u001b[38;5;129;01mnot\u001b[39;00m allow_nd \u001b[38;5;129;01mand\u001b[39;00m array\u001b[38;5;241m.\u001b[39mndim \u001b[38;5;241m>\u001b[39m\u001b[38;5;241m=\u001b[39m \u001b[38;5;241m3\u001b[39m:\n\u001b[1;32m--> 794\u001b[0m     \u001b[38;5;28;01mraise\u001b[39;00m \u001b[38;5;167;01mValueError\u001b[39;00m(\n\u001b[0;32m    795\u001b[0m         \u001b[38;5;124m\"\u001b[39m\u001b[38;5;124mFound array with dim \u001b[39m\u001b[38;5;132;01m%d\u001b[39;00m\u001b[38;5;124m. \u001b[39m\u001b[38;5;132;01m%s\u001b[39;00m\u001b[38;5;124m expected <= 2.\u001b[39m\u001b[38;5;124m\"\u001b[39m\n\u001b[0;32m    796\u001b[0m         \u001b[38;5;241m%\u001b[39m (array\u001b[38;5;241m.\u001b[39mndim, estimator_name)\n\u001b[0;32m    797\u001b[0m     )\n\u001b[0;32m    799\u001b[0m \u001b[38;5;28;01mif\u001b[39;00m force_all_finite:\n\u001b[0;32m    800\u001b[0m     _assert_all_finite(array, allow_nan\u001b[38;5;241m=\u001b[39mforce_all_finite \u001b[38;5;241m==\u001b[39m \u001b[38;5;124m\"\u001b[39m\u001b[38;5;124mallow-nan\u001b[39m\u001b[38;5;124m\"\u001b[39m)\n",
      "\u001b[1;31mValueError\u001b[0m: Found array with dim 3. check_pairwise_arrays expected <= 2."
     ]
    }
   ],
   "source": [
    "for x in range(len(emb1)):\n",
    "    cos.append(cosine_similarity([emb1[x], emb2[x]])[0][1])\n",
    "    euc.append(euclidean_distances([emb1[x], emb2[x]])[0][1])\n"
   ]
  },
  {
   "cell_type": "code",
   "execution_count": 19,
   "id": "026af8c8",
   "metadata": {},
   "outputs": [
    {
     "data": {
      "text/plain": [
       "[0.87991786,\n",
       " 0.78682625,\n",
       " 0.9292643,\n",
       " 0.9335138,\n",
       " 0.80297196,\n",
       " 0.813931,\n",
       " 0.86551476,\n",
       " 0.9419801,\n",
       " 0.8669004,\n",
       " 0.84700227,\n",
       " 0.9272769,\n",
       " 0.9126164,\n",
       " 0.8322865,\n",
       " 0.81512856,\n",
       " 0.8491376,\n",
       " 0.82885945,\n",
       " 0.7607406,\n",
       " 0.64019364,\n",
       " 0.7794986,\n",
       " 0.72182727,\n",
       " 0.7607406,\n",
       " 0.64019364,\n",
       " 0.8451307,\n",
       " 0.73807764,\n",
       " 0.84912616,\n",
       " 0.83513314,\n",
       " 0.83487475,\n",
       " 0.8861921,\n",
       " 0.9232898,\n",
       " 0.8821677,\n",
       " 0.7896611,\n",
       " 0.8363348,\n",
       " 0.8553205,\n",
       " 0.9382645,\n",
       " 0.9310889,\n",
       " 0.8621922,\n",
       " 0.93220675,\n",
       " 0.81364065,\n",
       " 0.81078017,\n",
       " 0.89636767,\n",
       " 0.91017973,\n",
       " 0.8959261,\n",
       " 0.80199456,\n",
       " 0.8890426,\n",
       " 0.8981181,\n",
       " 0.9999999,\n",
       " 0.73419505,\n",
       " 0.82426584,\n",
       " 0.6884609,\n",
       " 0.6109992,\n",
       " 0.9644683,\n",
       " 0.9415308,\n",
       " 0.7802304,\n",
       " 0.8730054,\n",
       " 0.90131205,\n",
       " 0.8535392,\n",
       " 0.93311083,\n",
       " 0.774717,\n",
       " 0.9272332,\n",
       " 0.9093774,\n",
       " 0.89556384,\n",
       " 0.85627556,\n",
       " 0.87808084,\n",
       " 0.83634907,\n",
       " 0.7583182,\n",
       " 0.7000294,\n",
       " 0.7661648,\n",
       " 0.8257556,\n",
       " 0.8667362,\n",
       " 0.82145965,\n",
       " 0.8725694,\n",
       " 0.81695354,\n",
       " 0.87218034,\n",
       " 0.8750279,\n",
       " 0.7689423,\n",
       " 0.7165858,\n",
       " 0.9247509,\n",
       " 0.8694278,\n",
       " 0.87771976,\n",
       " 0.76345026,\n",
       " 0.88089466,\n",
       " 0.83580863,\n",
       " 0.9209399,\n",
       " 0.9484017,\n",
       " 0.89156437,\n",
       " 0.9300473,\n",
       " 0.65389353,\n",
       " 0.7212013,\n",
       " 0.9598676,\n",
       " 0.9161707,\n",
       " 0.8185991,\n",
       " 0.86641514,\n",
       " 0.84864664,\n",
       " 0.83048606,\n",
       " 0.9114426,\n",
       " 0.9431497,\n",
       " 0.9218391,\n",
       " 0.9188621,\n",
       " 0.8123578,\n",
       " 0.74499106,\n",
       " 0.9447595,\n",
       " 0.96240604,\n",
       " 0.8998507,\n",
       " 0.89984524,\n",
       " 0.93349445,\n",
       " 0.94517946,\n",
       " 0.91539013,\n",
       " 0.92356503,\n",
       " 0.90350515,\n",
       " 0.84401214,\n",
       " 0.8705108,\n",
       " 0.87484646,\n",
       " 0.9537562,\n",
       " 0.9255247,\n",
       " 0.92345595,\n",
       " 0.913594,\n",
       " 0.9536125,\n",
       " 0.8106621,\n",
       " 0.883432,\n",
       " 0.9049804,\n",
       " 0.93321264,\n",
       " 0.9069406,\n",
       " 0.8980155,\n",
       " 0.94287324,\n",
       " 0.94659245,\n",
       " 0.9128393,\n",
       " 0.90790087,\n",
       " 0.84399927,\n",
       " 0.90774184,\n",
       " 0.9115499,\n",
       " 0.8381323,\n",
       " 0.8053881,\n",
       " 0.84069467,\n",
       " 0.87189996,\n",
       " 0.8887773,\n",
       " 0.89924467,\n",
       " 0.6926967,\n",
       " 0.74844426,\n",
       " 0.8084994,\n",
       " 0.9032165,\n",
       " 0.9760604,\n",
       " 0.8793287,\n",
       " 0.8172451,\n",
       " 0.7272278,\n",
       " 0.7854413,\n",
       " 0.96283895,\n",
       " 0.749033,\n",
       " 0.75491196,\n",
       " 0.90254474,\n",
       " 0.7752119,\n",
       " 0.892519,\n",
       " 0.96135855,\n",
       " 0.8264657,\n",
       " 0.87937087,\n",
       " 0.8793466,\n",
       " 0.924621,\n",
       " 0.8961376,\n",
       " 0.9263816,\n",
       " 0.810392,\n",
       " 0.7149401,\n",
       " 0.9394214,\n",
       " 0.93249285,\n",
       " 0.91435087,\n",
       " 0.8233681,\n",
       " 0.8498316,\n",
       " 0.8225844,\n",
       " 0.875509,\n",
       " 0.9085252,\n",
       " 0.771327,\n",
       " 0.8885329,\n",
       " 0.9144465,\n",
       " 0.887718,\n",
       " 0.80294335,\n",
       " 0.8831043,\n",
       " 0.8314035,\n",
       " 0.85205245,\n",
       " 0.8018905,\n",
       " 0.72292054,\n",
       " 0.8497627,\n",
       " 0.8699578,\n",
       " 0.6214785,\n",
       " 0.8914809,\n",
       " 0.91199034,\n",
       " 0.80372334,\n",
       " 0.8698271,\n",
       " 0.8506166,\n",
       " 0.7633182,\n",
       " 0.8576827,\n",
       " 0.79078877,\n",
       " 1.0000001,\n",
       " 0.915961,\n",
       " 0.89076984,\n",
       " 0.9053742,\n",
       " 0.9283323,\n",
       " 0.975204,\n",
       " 0.9606042,\n",
       " 0.9085158,\n",
       " 0.91141653,\n",
       " 0.7302938,\n",
       " 0.7782101,\n",
       " 0.93208665,\n",
       " 0.8571098,\n",
       " 0.73342544,\n",
       " 0.818847,\n",
       " 0.8581845,\n",
       " 0.7846949,\n",
       " 0.78937733,\n",
       " 0.84582317,\n",
       " 0.92234117,\n",
       " 0.88586736,\n",
       " 0.9537305,\n",
       " 0.95059675,\n",
       " 0.8280269,\n",
       " 0.80757093,\n",
       " 0.8601286,\n",
       " 0.86921424,\n",
       " 0.89300203,\n",
       " 0.82480884,\n",
       " 0.9277732,\n",
       " 0.9225884,\n",
       " 0.86690235,\n",
       " 0.8554411,\n",
       " 0.759521,\n",
       " 0.72522825,\n",
       " 0.9392821,\n",
       " 0.87358534,\n",
       " 0.8657668,\n",
       " 0.888837,\n",
       " 0.9271967,\n",
       " 0.9510986,\n",
       " 0.8872391,\n",
       " 0.846484,\n",
       " 0.9435158,\n",
       " 0.88124144,\n",
       " 0.8180146,\n",
       " 0.63687253,\n",
       " 0.8677343,\n",
       " 0.8798195,\n",
       " 0.8922238,\n",
       " 0.93394303,\n",
       " 0.90992516,\n",
       " 0.90120995,\n",
       " 0.84241474,\n",
       " 0.72710216,\n",
       " 0.9170991,\n",
       " 0.81832516,\n",
       " 0.57838154,\n",
       " 0.7899768,\n",
       " 0.90780413,\n",
       " 0.94136053,\n",
       " 0.80152905,\n",
       " 0.95592755,\n",
       " 0.8360106,\n",
       " 0.8954195,\n",
       " 0.94377583,\n",
       " 0.85782796,\n",
       " 0.8798648,\n",
       " 0.8046659,\n",
       " 0.9230811,\n",
       " 0.93075025,\n",
       " 0.8914622,\n",
       " 0.9442635,\n",
       " 0.9115238,\n",
       " 0.84867895,\n",
       " 0.8320575,\n",
       " 0.82371926,\n",
       " 0.9440441,\n",
       " 0.94826996,\n",
       " 0.8921269,\n",
       " 0.8786596,\n",
       " 0.8256922,\n",
       " 0.8945174,\n",
       " 0.9326875,\n",
       " 0.945145,\n",
       " 0.93140304,\n",
       " 0.9304975,\n",
       " 0.9616586,\n",
       " 0.93799025,\n",
       " 0.9612744,\n",
       " 0.96551573,\n",
       " 0.81815183,\n",
       " 0.84967804,\n",
       " 0.94322526,\n",
       " 0.94235474,\n",
       " 0.83497036,\n",
       " 0.91789377,\n",
       " 0.89112294,\n",
       " 0.89308393,\n",
       " 0.9225746,\n",
       " 0.7104188,\n",
       " 0.9563854,\n",
       " 0.9502371,\n",
       " 0.93600166,\n",
       " 0.8216788,\n",
       " 0.8622286,\n",
       " 0.8421192,\n",
       " 0.88126516,\n",
       " 0.95381236,\n",
       " 0.9146873,\n",
       " 0.9192816,\n",
       " 0.9262415,\n",
       " 0.95066637,\n",
       " 0.8808111,\n",
       " 0.8736255,\n",
       " 0.9127189,\n",
       " 0.8708842,\n",
       " 0.9417077,\n",
       " 1.0,\n",
       " 0.9032396,\n",
       " 0.9034097,\n",
       " 0.8849977,\n",
       " 0.8588402,\n",
       " 0.83312273,\n",
       " 0.920488,\n",
       " 0.9283125,\n",
       " 0.9449527,\n",
       " 0.955832,\n",
       " 0.9755397,\n",
       " 0.95268774,\n",
       " 0.9786286,\n",
       " 0.92433363,\n",
       " 0.84659934,\n",
       " 0.9218578,\n",
       " 0.9363853,\n",
       " 0.7582892,\n",
       " 0.8692076,\n",
       " 0.82976496,\n",
       " 0.87320924,\n",
       " 0.88115823,\n",
       " 0.8521312,\n",
       " 0.9180815,\n",
       " 0.9018713,\n",
       " 0.9545613,\n",
       " 0.9072466,\n",
       " 0.89392364,\n",
       " 0.858775,\n",
       " 0.8968829,\n",
       " 0.9594956,\n",
       " 0.89033437,\n",
       " 0.86186606,\n",
       " 0.92776537,\n",
       " 0.92547894,\n",
       " 0.89469063,\n",
       " 0.8995212]"
      ]
     },
     "execution_count": 19,
     "metadata": {},
     "output_type": "execute_result"
    }
   ],
   "source": [
    "cos "
   ]
  },
  {
   "cell_type": "code",
   "execution_count": 17,
   "id": "58b63368",
   "metadata": {},
   "outputs": [
    {
     "name": "stderr",
     "output_type": "stream",
     "text": [
      "100%|██████████████████████████████████████████████████████████████████████████████| 344/344 [00:00<00:00, 3151.57it/s]\n"
     ]
    }
   ],
   "source": [
    "from tqdm import tqdm\n",
    "Aptness = []\n",
    "hilo = []\n",
    "average_score = []\n",
    "\n",
    "for i in tqdm(range(len(df))):\n",
    "    Aptness.append(df.iloc[i]['Aptness'])\n",
    "    hilo.append(df.iloc[i]['hilo'])\n",
    "    average_score.append(df.iloc[i]['average_score'])"
   ]
  },
  {
   "cell_type": "code",
   "execution_count": 18,
   "id": "9e77e4a5",
   "metadata": {},
   "outputs": [
    {
     "name": "stdout",
     "output_type": "stream",
     "text": [
      "Requirement already satisfied: xlwt in d:\\photoshop_cs6_chs\\anaconda\\envs\\data_analytics\\lib\\site-packages (1.3.0)\n",
      "Note: you may need to restart the kernel to use updated packages.\n"
     ]
    }
   ],
   "source": [
    "pip install xlwt"
   ]
  },
  {
   "cell_type": "code",
   "execution_count": 19,
   "id": "44c63c1c",
   "metadata": {},
   "outputs": [],
   "source": [
    "import xlwt\n",
    "\n",
    "\n",
    "file = xlwt.Workbook('encoding = utf-8') \n",
    "sheet1 = file.add_sheet('sheet1',cell_overwrite_ok=True)\n",
    "sheet1.write(0, 0, \"Sentence1\")\n",
    "sheet1.write(0, 1, \"Sentence2\")\n",
    "sheet1.write(0, 2, \"Aptness\")\n",
    "sheet1.write(0, 3, \"hilo\")\n",
    "sheet1.write(0, 4, \"average_score\")\n",
    "sheet1.write(0, 5, \"cosine_similarity\")\n",
    "sheet1.write(0, 6, \"euclidean_distances\")\n",
    "\n",
    "for i in range(len(df)):\n",
    "    sheet1.write(i + 1, 0, sentence1[i])\n",
    "    sheet1.write(i + 1, 1, sentence2[i])\n",
    "    sheet1.write(i + 1, 2, Aptness[i])\n",
    "    sheet1.write(i + 1, 3, int(hilo[i]))\n",
    "    sheet1.write(i + 1, 4, average_score[i])\n",
    "    sheet1.write(i + 1, 5, float(cos[i]))\n",
    "    sheet1.write(i + 1, 6, float(euc[i]))\n",
    "    "
   ]
  },
  {
   "cell_type": "code",
   "execution_count": 20,
   "id": "61b17f15",
   "metadata": {},
   "outputs": [],
   "source": [
    "file.save('Similarity4.xls') "
   ]
  },
  {
   "cell_type": "markdown",
   "id": "44f90425",
   "metadata": {},
   "source": [
    "I have modified my code as shown in the screenshot below. I calculated the average of the scores people gave to each set of sentences, after which I saved the sentences in two separate lists, sentence1 and sentence2, and tried to calculate the vector of sentences using cls, calculating cosine similarity and Euclidean distance for the sentences in sentence1 and sentence2 one by one. Finally save them to excel.\n",
    "I am not sure if the thinking and approach is correct, do I need to add anything more or change anything?I also found that many of my calculations were the opposite of what people were scoring - is this reasonable, or is there something wrong with my calculations?"
   ]
  },
  {
   "cell_type": "code",
   "execution_count": 56,
   "id": "73a15b0b",
   "metadata": {},
   "outputs": [],
   "source": [
    "hilo = []\n",
    "for i in range(0,344,2):\n",
    "    if  cos[i-1] >= cos[i]:\n",
    "        hilo.append('1')\n",
    "    else: \n",
    "        hilo.append('0')\n",
    "    "
   ]
  },
  {
   "cell_type": "code",
   "execution_count": 21,
   "id": "6dd1d54a",
   "metadata": {},
   "outputs": [
    {
     "name": "stdout",
     "output_type": "stream",
     "text": [
      "Requirement already satisfied: xlrd in d:\\photoshop_cs6_chs\\anaconda\\envs\\data_analytics\\lib\\site-packages (2.0.1)\n",
      "Note: you may need to restart the kernel to use updated packages.\n"
     ]
    }
   ],
   "source": [
    "pip install xlrd"
   ]
  },
  {
   "cell_type": "code",
   "execution_count": 22,
   "id": "521e6080",
   "metadata": {},
   "outputs": [],
   "source": [
    "df1 = pd.read_excel('Similarity4.xls') "
   ]
  },
  {
   "cell_type": "code",
   "execution_count": 23,
   "id": "6be9c562",
   "metadata": {},
   "outputs": [
    {
     "name": "stderr",
     "output_type": "stream",
     "text": [
      "100%|██████████████████████████████████████████████████████████████████████████████| 344/344 [00:00<00:00, 5226.13it/s]\n"
     ]
    }
   ],
   "source": [
    "from tqdm import tqdm\n",
    "hilo1 = []\n",
    "hilo2 = []\n",
    "\n",
    "for i in tqdm(range(len(df1))):\n",
    "    hilo1.append(df1.iloc[i]['hilo'])\n",
    "    hilo2.append(df1.iloc[i]['hilo_new'])"
   ]
  },
  {
   "cell_type": "code",
   "execution_count": 24,
   "id": "707842e6",
   "metadata": {},
   "outputs": [],
   "source": [
    "from sklearn.metrics import roc_auc_score\n",
    "auc_score = roc_auc_score(hilo1,hilo2)"
   ]
  },
  {
   "cell_type": "code",
   "execution_count": 25,
   "id": "ad832a1c",
   "metadata": {},
   "outputs": [
    {
     "data": {
      "text/plain": [
       "0.5784910252509887"
      ]
     },
     "execution_count": 25,
     "metadata": {},
     "output_type": "execute_result"
    }
   ],
   "source": [
    "auc_score"
   ]
  },
  {
   "cell_type": "code",
   "execution_count": null,
   "id": "0f60156a",
   "metadata": {},
   "outputs": [],
   "source": []
  },
  {
   "cell_type": "code",
   "execution_count": 1,
   "id": "8cafab90",
   "metadata": {},
   "outputs": [],
   "source": [
    "class neuralNetwork:\n",
    "    \n",
    "    \n",
    "    # initialise the neural network\n",
    "    def __init__(self, inputnodes, hiddennodes, outputnodes, learningrate):\n",
    "        # set number of nodes in each input, hidden, output layer\n",
    "        self.inodes = inputnodes\n",
    "        self.hnodes = hiddennodes\n",
    "        self.onodes = outputnodes\n",
    "        \n",
    "        # link weight matrices, wih and who\n",
    "        # weights inside the arrays are w_i_j, where link is from node i to node j in the next layer\n",
    "        # w11 w21\n",
    "        # w12 w22 etc \n",
    "        self.wih = numpy.random.normal(0.0, pow(self.inodes, -0.5), (self.hnodes, self.inodes))\n",
    "        self.who = numpy.random.normal(0.0, pow(self.hnodes, -0.5), (self.onodes, self.hnodes))\n",
    "\n",
    "        # learning rate\n",
    "        self.lr = learningrate\n",
    "        \n",
    "        # activation function is the sigmoid function\n",
    "        self.activation_function = lambda x: scipy.special.expit(x)\n",
    "        \n",
    "        pass"
   ]
  },
  {
   "cell_type": "code",
   "execution_count": 2,
   "id": "39428f77",
   "metadata": {},
   "outputs": [
    {
     "ename": "NameError",
     "evalue": "name 'BertTokenizer' is not defined",
     "output_type": "error",
     "traceback": [
      "\u001b[1;31m---------------------------------------------------------------------------\u001b[0m",
      "\u001b[1;31mNameError\u001b[0m                                 Traceback (most recent call last)",
      "Input \u001b[1;32mIn [2]\u001b[0m, in \u001b[0;36m<cell line: 1>\u001b[1;34m()\u001b[0m\n\u001b[1;32m----> 1\u001b[0m tokenizer \u001b[38;5;241m=\u001b[39m \u001b[43mBertTokenizer\u001b[49m\u001b[38;5;241m.\u001b[39mfrom_pretrained(\u001b[38;5;124m\"\u001b[39m\u001b[38;5;124mbert-large-uncased\u001b[39m\u001b[38;5;124m\"\u001b[39m)\n\u001b[0;32m      2\u001b[0m model \u001b[38;5;241m=\u001b[39m BertModel\u001b[38;5;241m.\u001b[39mfrom_pretrained(\u001b[38;5;124m\"\u001b[39m\u001b[38;5;124mbert-large-uncased\u001b[39m\u001b[38;5;124m\"\u001b[39m)\n",
      "\u001b[1;31mNameError\u001b[0m: name 'BertTokenizer' is not defined"
     ]
    }
   ],
   "source": [
    "tokenizer = BertTokenizer.from_pretrained(\"bert-large-uncased\")\n",
    "model = BertModel.from_pretrained(\"bert-large-uncased\")"
   ]
  },
  {
   "cell_type": "code",
   "execution_count": null,
   "id": "18fc57a8",
   "metadata": {},
   "outputs": [],
   "source": [
    "def query(self, inputs_list):\n",
    "        # convert inputs list to 2d array\n",
    "        inputs = numpy.array(inputs_list, ndmin=2).T\n",
    "        \n",
    "        # calculate signals into hidden layer\n",
    "        hidden_inputs = numpy.dot(self.wih, inputs)\n",
    "        # calculate the signals emerging from hidden layer\n",
    "        hidden_outputs = self.activation_function(hidden_inputs)\n",
    "        \n",
    "        # calculate signals into final output layer\n",
    "        final_inputs = numpy.dot(self.who, hidden_outputs)\n",
    "        # calculate the signals emerging from final output layer\n",
    "        final_outputs = self.activation_function(final_inputs)\n",
    "        \n",
    "        return final_outputs"
   ]
  },
  {
   "cell_type": "code",
   "execution_count": null,
   "id": "3174db45",
   "metadata": {},
   "outputs": [],
   "source": [
    "# number of input, hidden and output nodes\n",
    "input_nodes = 784\n",
    "hidden_nodes = 200\n",
    "output_nodes = 10\n",
    "\n",
    "# learning rate\n",
    "learning_rate = 0.1\n",
    "\n",
    "# create instance of neural network\n",
    "n = neuralNetwork(input_nodes,hidden_nodes,output_nodes, learning_rate)"
   ]
  },
  {
   "cell_type": "code",
   "execution_count": null,
   "id": "7bef142a",
   "metadata": {},
   "outputs": [],
   "source": [
    "item = 2\n",
    "\n",
    "# data is remaining values\n",
    "inputs = our_own_dataset[item][1:]\n",
    "\n",
    "# query the network\n",
    "outputs = n.query(inputs)\n",
    "print (outputs)\n"
   ]
  },
  {
   "attachments": {
    "image.png": {
     "image/png": "[encoded data removed]"
    }
   },
   "cell_type": "markdown",
   "id": "482db533",
   "metadata": {},
   "source": [
    "![image.png](attachment:image.png)"
   ]
  },
  {
   "cell_type": "code",
   "execution_count": null,
   "id": "40887325",
   "metadata": {},
   "outputs": [],
   "source": [
    "scorecard = []\n",
    "for record in test_data_list:\n",
    "    inputs = (numpy.asfarray(all_values[1:])/255.0*0.99)+0.01\n",
    "    outputs = N.query(inputs)\n",
    "    "
   ]
  }
 ],
 "metadata": {
  "kernelspec": {
   "display_name": "data_analytics",
   "language": "python",
   "name": "data_analytics"
  },
  "language_info": {
   "codemirror_mode": {
    "name": "ipython",
    "version": 3
   },
   "file_extension": ".py",
   "mimetype": "text/x-python",
   "name": "python",
   "nbconvert_exporter": "python",
   "pygments_lexer": "ipython3",
   "version": "3.9.10"
  }
 },
 "nbformat": 4,
 "nbformat_minor": 5
}
